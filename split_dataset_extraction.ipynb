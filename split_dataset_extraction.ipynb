{
 "cells": [
  {
   "cell_type": "code",
   "execution_count": 71,
   "metadata": {
    "collapsed": false
   },
   "outputs": [],
   "source": [
    "import pickle\n",
    "import random\n",
    "import json\n",
    "\n",
    "in_path = 'train.tsv'    #validation:  train.tsv    test.tsv    validation.tsv    tune.tsv\n",
    "out_path = ''.join(['preprocess/', in_path[:-4], '_'])"
   ]
  },
  {
   "cell_type": "code",
   "execution_count": 72,
   "metadata": {
    "collapsed": false
   },
   "outputs": [],
   "source": [
    "#read data and store in list formate\n",
    "complex_sents=[]\n",
    "simple_sent1s=[]\n",
    "simple_sent2s=[]\n",
    "\n",
    "import csv\n",
    "with open(in_path) as f:\n",
    "    f_tsv = csv.reader(f, delimiter='\\t')\n",
    "    #headers = next(f_tsv)\n",
    "    for idx, line in enumerate(f_tsv):\n",
    "        complex_sent = line[0].strip(' \\'\\t\\n\\r')\n",
    "        simple_sent =  line[1].split(' <::::> ')\n",
    "        simple_sent1 = simple_sent[0].strip(' \\'\\t\\n\\r')\n",
    "        simple_sent2 = simple_sent[1].strip(' \\'\\t\\n\\r')\n",
    "\n",
    "        complex_sents.append(complex_sent)\n",
    "        simple_sent1s.append(simple_sent1)\n",
    "        simple_sent2s.append(simple_sent2)\n"
   ]
  },
  {
   "cell_type": "code",
   "execution_count": 3,
   "metadata": {
    "collapsed": true
   },
   "outputs": [],
   "source": [
    "#save\n",
    "with open(''.join([out_path, 'complex_sents.pk']), 'w') as f:\n",
    "    json.dump(complex_sents, f)\n",
    "with open(''.join([out_path, 'simple_sent1s.pk']), 'w') as f:\n",
    "    json.dump(simple_sent1s, f)\n",
    "with open(''.join([out_path, 'simple_sent2s.pk']), 'w') as f:\n",
    "    json.dump(simple_sent2s, f)"
   ]
  },
  {
   "cell_type": "code",
   "execution_count": 73,
   "metadata": {
    "collapsed": false
   },
   "outputs": [
    {
     "name": "stdout",
     "output_type": "stream",
     "text": [
      "0\n"
     ]
    }
   ],
   "source": [
    "#check\n",
    "cnt=0\n",
    "for idx, sent in enumerate(complex_sents):\n",
    "    if len(sent.split(' '))<8 or len(simple_sent1s[idx].split(' '))<5 or len(simple_sent2s[idx].split(' '))<5:\n",
    "        print(sent, simple_sent1s[idx], simple_sent2s[idx])\n",
    "        cnt+=1\n",
    "print(cnt)"
   ]
  },
  {
   "cell_type": "code",
   "execution_count": 104,
   "metadata": {
    "collapsed": false
   },
   "outputs": [
    {
     "name": "stdout",
     "output_type": "stream",
     "text": [
      "5000 1522\n",
      "He was an elder of the United Presbyterian Church of Scotland and his deep religious convictions informed his work , there is a strong suggestion that he closely identified Solomon 's temple with the plan of the Greek basilica .\n",
      "He was an elder of the United Presbyterian Church of Scotland and his deep religious convictions informed his work .\n",
      "There is a strong suggestion that he closely identified Solomon 's temple with the plan of the Greek basilica .\n"
     ]
    }
   ],
   "source": [
    "#print sample randomly\n",
    "data_num = len(complex_sents)\n",
    "idx = random.randint(0, data_num)\n",
    "\n",
    "print(data_num, idx)\n",
    "print(complex_sents[idx])\n",
    "print(simple_sent1s[idx])\n",
    "print(simple_sent2s[idx])"
   ]
  }
 ],
 "metadata": {
  "anaconda-cloud": {},
  "kernelspec": {
   "display_name": "Python [conda root]",
   "language": "python",
   "name": "conda-root-py"
  },
  "language_info": {
   "codemirror_mode": {
    "name": "ipython",
    "version": 3
   },
   "file_extension": ".py",
   "mimetype": "text/x-python",
   "name": "python",
   "nbconvert_exporter": "python",
   "pygments_lexer": "ipython3",
   "version": "3.5.4"
  }
 },
 "nbformat": 4,
 "nbformat_minor": 1
}
