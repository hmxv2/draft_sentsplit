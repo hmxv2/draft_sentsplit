{
 "cells": [
  {
   "cell_type": "code",
   "execution_count": 1,
   "metadata": {
    "collapsed": true
   },
   "outputs": [],
   "source": [
    "import json\n",
    "import pickle\n",
    "import random\n",
    "from collections import Counter\n",
    "import os\n",
    "import copy\n",
    "\n",
    "import nltk\n",
    "from nltk.translate.bleu_score import SmoothingFunction\n",
    "from nltk.translate.bleu_score import sentence_bleu\n",
    "\n",
    "from Vocab import Vocab\n",
    "\n",
    "file_group = 'validation'    #availabe:  train    test    validation    tune\n",
    "\n",
    "with open('vocab.pk', 'rb') as f:\n",
    "    vocab = pickle.load(f)"
   ]
  },
  {
   "cell_type": "code",
   "execution_count": 2,
   "metadata": {
    "collapsed": true
   },
   "outputs": [],
   "source": [
    "def batch_words2sentence(words_list):\n",
    "    return [' '.join(words) for words in words_list]\n",
    "def batch_tokens2words(tokens_list, vocab):\n",
    "    ##    para: tokens_list is list[list] type\n",
    "    ##    return: words_list corresponding to tokens\n",
    "    return [[vocab.token2word[token] for token in tokens] for tokens in tokens_list]\n",
    "\n",
    "def batch_tokens_remove_eos(tokens_list, vocab):\n",
    "    ##    para: tokens_list is list[list] type\n",
    "    ##    return pure tokens_list removed eos symbol\n",
    "    result=[]\n",
    "    for tokens in tokens_list:\n",
    "        tokens_filtered=[]\n",
    "        for token in tokens:\n",
    "            if token == vocab.word2token['<eos>']:\n",
    "#                 tokens_filtered.append(token)\n",
    "                break\n",
    "            else:\n",
    "                tokens_filtered.append(token)\n",
    "        result.append(tokens_filtered)\n",
    "    return result\n",
    "\n",
    "def batch_tokens_bleu(references, candidates, smooth_epsilon=0.001):\n",
    "    ##    para: references and candidates are list[list] type\n",
    "    ##    return: list of BLEU for every sample\n",
    "    ##\n",
    "    bleu_scores=[]\n",
    "    for ref, candidate in zip(references, candidates):\n",
    "        if min(len(ref), len(candidate))<4:\n",
    "            bleu_scores.append(0)\n",
    "        else:\n",
    "            bleu_scores.append(sentence_bleu([ref], candidate, smoothing_function = SmoothingFunction(epsilon=smooth_epsilon).method1))\n",
    "    return bleu_scores\n",
    "\n",
    "\n",
    "def seqs_split(seqs, vocab):\n",
    "    seqs = batch_tokens_remove_eos(seqs, vocab)\n",
    "    simple_sent1s=[]\n",
    "    simple_sent2s=[]\n",
    "    for seq in seqs:\n",
    "        simple_sent1=[]\n",
    "        simple_sent2=[]\n",
    "        sent=simple_sent1\n",
    "        for token in seq:\n",
    "            if token==vocab.word2token['<split>']:\n",
    "                sent=simple_sent2\n",
    "            else:\n",
    "                sent.append(token)\n",
    "        simple_sent1s.append(simple_sent1)\n",
    "        simple_sent2s.append(simple_sent2)\n",
    "        \n",
    "    return simple_sent1s, simple_sent2s\n",
    "\n",
    "def batch_tokens_bleu_split_version(references, candidates, vocab, smooth_epsilon=0.001):\n",
    "    #\n",
    "    #\n",
    "    ref1, ref2 = seqs_split(references, vocab)\n",
    "    cand1, cand2 = seqs_split(candidates, vocab)\n",
    "    bleu_simple_sent1s = batch_tokens_bleu(ref1, cand1)\n",
    "    bleu_simple_sent2s = batch_tokens_bleu(ref2, cand2)\n",
    "#     print(bleu_simple_sent1s)\n",
    "#     print(bleu_simple_sent2s)\n",
    "    bleu=[]\n",
    "    for idx in range(len(bleu_simple_sent1s)):\n",
    "        bleu.append((bleu_simple_sent1s[idx]+bleu_simple_sent2s[idx])/2)\n",
    "        \n",
    "    return bleu"
   ]
  },
  {
   "cell_type": "code",
   "execution_count": 3,
   "metadata": {
    "collapsed": false
   },
   "outputs": [],
   "source": [
    "#split data set\n",
    "\n",
    "with open('../data_set/split_data_set/train_complex_sents.pk', 'rb') as f:\n",
    "    train_complex_sents = pickle.load(f)\n",
    "with open('../data_set/split_data_set/train_complex_sent_lens.pk', 'rb') as f:\n",
    "    train_complex_sent_lens = pickle.load(f)\n",
    "with open('../data_set/split_data_set/train_pseudo_labels.pk', 'rb') as f:\n",
    "    train_pseudo_labels = pickle.load(f)\n",
    "with open('../data_set/split_data_set/train_labels.pk', 'rb') as f:\n",
    "    train_labels = pickle.load(f)\n"
   ]
  },
  {
   "cell_type": "code",
   "execution_count": 4,
   "metadata": {
    "collapsed": false
   },
   "outputs": [
    {
     "name": "stdout",
     "output_type": "stream",
     "text": [
      "197988 197988\n"
     ]
    }
   ],
   "source": [
    "sample_rate=0.2\n",
    "sample_num = int(sample_rate*len(train_pseudo_labels))\n",
    "all_indices = [x for x in range(len(train_pseudo_labels))]\n",
    "indices_choice = random.sample(all_indices, sample_num)\n",
    "\n",
    "print(sample_num, len(set(indices_choice)))"
   ]
  },
  {
   "cell_type": "code",
   "execution_count": 5,
   "metadata": {
    "collapsed": false
   },
   "outputs": [
    {
     "name": "stdout",
     "output_type": "stream",
     "text": [
      "197988 791956\n"
     ]
    }
   ],
   "source": [
    "train_complex_sents_supervised=[]\n",
    "train_complex_sent_lens_supervised=[]\n",
    "train_labels_supervised=[]\n",
    "\n",
    "train_complex_sents_tmp=[]\n",
    "train_complex_sent_lens_tmp=[]\n",
    "train_pseudo_labels_tmp=[]\n",
    "train_labels_tmp=[]\n",
    "    \n",
    "indices_choice_set = set(indices_choice)\n",
    "for idx in range(len(train_pseudo_labels)):\n",
    "    if idx not in indices_choice_set:\n",
    "        train_complex_sents_tmp.append(train_complex_sents[idx])\n",
    "        train_complex_sent_lens_tmp.append(train_complex_sent_lens[idx])\n",
    "        train_pseudo_labels_tmp.append(train_pseudo_labels[idx])\n",
    "        train_labels_tmp.append(train_labels[idx])\n",
    "    else:\n",
    "        train_complex_sents_supervised.append(train_complex_sents[idx])\n",
    "        train_complex_sent_lens_supervised.append(train_complex_sent_lens[idx])\n",
    "        train_labels_supervised.append(train_labels[idx])\n",
    "        \n",
    "print(len(train_labels_supervised), len(train_pseudo_labels_tmp))"
   ]
  },
  {
   "cell_type": "code",
   "execution_count": 6,
   "metadata": {
    "collapsed": true
   },
   "outputs": [],
   "source": [
    "#save\n",
    "with open('./split_data_set/train_complex_sents.pk', 'wb') as f:\n",
    "    pickle.dump(train_complex_sents_tmp, f)\n",
    "with open('./split_data_set/train_complex_sent_lens.pk', 'wb') as f:\n",
    "    pickle.dump(train_complex_sent_lens_tmp, f)\n",
    "with open('./split_data_set/train_pseudo_labels.pk', 'wb') as f:\n",
    "    pickle.dump(train_pseudo_labels_tmp, f)\n",
    "with open('./split_data_set/train_labels.pk', 'wb') as f:\n",
    "    pickle.dump(train_labels_tmp, f)\n",
    "    \n",
    "with open('./split_data_set/train_complex_sents_supervised.pk', 'wb') as f:\n",
    "    pickle.dump(train_complex_sents_supervised, f)\n",
    "with open('./split_data_set/train_complex_sent_lens_supervised.pk', 'wb') as f:\n",
    "    pickle.dump(train_complex_sent_lens_supervised, f)\n",
    "with open('./split_data_set/train_labels_supervised.pk', 'wb') as f:\n",
    "    pickle.dump(train_labels_supervised, f)"
   ]
  },
  {
   "cell_type": "code",
   "execution_count": 7,
   "metadata": {
    "collapsed": false
   },
   "outputs": [
    {
     "name": "stdout",
     "output_type": "stream",
     "text": [
      "[33280, 752, 31001, 43095, 10934, 16112, 6111, 13264, 25168, 43095, 10934, 16156, 43872, 25168, 38165, 13264, 21467, 10754, 26356, 34730, 39262, 37807, 406, 40780, 30014, 39650, 21467, 33280, 36955, 13264, 10130, 12834, 8082, 406, 24796, 27513, 2079, 37734, 1, 1, 1, 1, 1, 1, 1, 1, 1, 1, 1, 1]\n",
      "38\n",
      "[33280, 752, 31001, 43095, 10934, 16112, 6111, 13264, 25168, 43095, 10934, 16156, 43872, 25168, 38165, 13264, 21467, 10754, 26356, 37734, 5, 34730, 39262, 37807, 406, 40780, 30014, 39650, 21467, 33280, 36955, 13264, 10130, 12834, 8082, 406, 24796, 27513, 2079, 37734, 2, 1, 1, 1, 1, 1, 1, 1, 1, 1, 1, 1, 1, 1, 1, 1, 1, 1, 1, 1, 1]\n",
      "\n",
      "\n",
      "[9194, 12421, 1818, 15472, 40167, 4493, 13126, 42074, 13264, 12421, 20589, 13126, 14912, 21467, 43223, 31508, 25168, 21698, 27513, 43017, 14054, 4435, 18038, 13126, 21467, 7258, 27513, 4367, 37586, 40848, 25168, 34399, 42273, 13126, 19682, 4910, 9240, 27513, 14754, 21449, 13222, 37734, 1, 1, 1, 1, 1, 1, 1, 1]\n",
      "42\n",
      "[9194, 12421, 1818, 15472, 40167, 4493, 13126, 42074, 13264, 12421, 20589, 13126, 14912, 21467, 43223, 31508, 25168, 21698, 27513, 43017, 14054, 4435, 18038, 13126, 21467, 7258, 27513, 4367, 37734, 5, 3, 13264, 37586, 40848, 25168, 34399, 42273, 13126, 19682, 4910, 9240, 27513, 14754, 21449, 13222, 37734, 2, 1, 1, 1, 1, 1, 1, 1, 1, 1, 1, 1, 1, 1, 1]\n"
     ]
    }
   ],
   "source": [
    "#test\n",
    "print(train_complex_sents_tmp[0])\n",
    "print(train_complex_sent_lens_tmp[0])\n",
    "print(train_pseudo_labels_tmp[0])\n",
    "print('\\n')\n",
    "print(train_complex_sents_supervised[0])\n",
    "print(train_complex_sent_lens_supervised[0])\n",
    "print(train_labels_supervised[0])"
   ]
  },
  {
   "cell_type": "code",
   "execution_count": null,
   "metadata": {
    "collapsed": true
   },
   "outputs": [],
   "source": []
  },
  {
   "cell_type": "code",
   "execution_count": 8,
   "metadata": {
    "collapsed": true
   },
   "outputs": [],
   "source": [
    "#fusion data set\n",
    "\n",
    "with open('../data_set/fusion_data_set/train_simple_sents.pk', 'rb') as f:\n",
    "    train_simple_sents = pickle.load(f)\n",
    "with open('../data_set/fusion_data_set/train_simple_sent_lens.pk', 'rb') as f:\n",
    "    train_simple_sent_lens = pickle.load(f)\n",
    "with open('../data_set/fusion_data_set/train_labels.pk', 'rb') as f:\n",
    "    train_labels = pickle.load(f)\n",
    "    \n",
    "with open('../data_set/fusion_data_set/train_pseudo_simple_sents.pk', 'rb') as f:\n",
    "    train_pseudo_simple_sents = pickle.load(f)\n",
    "with open('../data_set/fusion_data_set/train_pseudo_simple_sent_lens.pk', 'rb') as f:\n",
    "    train_pseudo_simple_sent_lens = pickle.load(f)\n",
    "with open('../data_set/fusion_data_set/train_pseudo_labels.pk', 'rb') as f:\n",
    "    train_pseudo_labels = pickle.load(f)"
   ]
  },
  {
   "cell_type": "code",
   "execution_count": 9,
   "metadata": {
    "collapsed": false
   },
   "outputs": [
    {
     "name": "stdout",
     "output_type": "stream",
     "text": [
      "197988 791956\n"
     ]
    }
   ],
   "source": [
    "train_simple_sents_supervised=[]\n",
    "train_simple_sent_lens_supervised=[]\n",
    "train_labels_supervised=[]\n",
    "\n",
    "train_pseudo_simple_sents_tmp=[]\n",
    "train_pseudo_simple_sent_lens_tmp=[]\n",
    "train_pseudo_labels_tmp=[]\n",
    "\n",
    "indices_choice_set = set(indices_choice)\n",
    "for idx in range(len(train_pseudo_labels)):\n",
    "    if idx not in indices_choice_set:\n",
    "        train_pseudo_simple_sents_tmp.append(train_pseudo_simple_sents[idx])\n",
    "        train_pseudo_simple_sent_lens_tmp.append(train_pseudo_simple_sent_lens[idx])\n",
    "        train_pseudo_labels_tmp.append(train_pseudo_labels[idx])\n",
    "    else:\n",
    "        train_simple_sents_supervised.append(train_simple_sents[idx])\n",
    "        train_simple_sent_lens_supervised.append(train_simple_sent_lens[idx])\n",
    "        train_labels_supervised.append(train_labels[idx])\n",
    "        \n",
    "print(len(train_labels_supervised), len(train_pseudo_labels_tmp))"
   ]
  },
  {
   "cell_type": "code",
   "execution_count": 10,
   "metadata": {
    "collapsed": false
   },
   "outputs": [],
   "source": [
    "#save\n",
    "with open('./fusion_data_set/train_pseudo_simple_sents.pk', 'wb') as f:\n",
    "    pickle.dump(train_pseudo_simple_sents_tmp, f)\n",
    "with open('./fusion_data_set/train_pseudo_simple_sent_lens.pk', 'wb') as f:\n",
    "    pickle.dump(train_pseudo_simple_sent_lens_tmp, f)\n",
    "with open('./fusion_data_set/train_pseudo_labels.pk', 'wb') as f:\n",
    "    pickle.dump(train_pseudo_labels_tmp, f)\n",
    "\n",
    "\n",
    "with open('./fusion_data_set/train_simple_sents_supervised.pk', 'wb') as f:\n",
    "    pickle.dump(train_simple_sents_supervised, f)\n",
    "with open('./fusion_data_set/train_simple_sent_lens_supervised.pk', 'wb') as f:\n",
    "    pickle.dump(train_simple_sent_lens_supervised, f)\n",
    "with open('./fusion_data_set/train_labels_supervised.pk', 'wb') as f:\n",
    "    pickle.dump(train_labels_supervised, f)"
   ]
  },
  {
   "cell_type": "code",
   "execution_count": 11,
   "metadata": {
    "collapsed": false
   },
   "outputs": [
    {
     "name": "stdout",
     "output_type": "stream",
     "text": [
      "[33280, 752, 31001, 43095, 10934, 16112, 6111, 13264, 25168, 43095, 10934, 16156, 43872, 25168, 38165, 13264, 21467, 10754, 26356, 37734, 5, 34730, 39262, 37807, 406, 40780, 30014, 39650, 21467, 33280, 36955, 13264, 10130, 12834, 8082, 406, 24796, 27513, 2079, 37734, 1, 1, 1, 1, 1, 1, 1, 1, 1, 1, 1, 1]\n",
      "40\n",
      "[33280, 752, 31001, 43095, 10934, 16112, 6111, 13264, 25168, 43095, 10934, 16156, 43872, 25168, 38165, 13264, 21467, 10754, 26356, 34730, 39262, 37807, 406, 40780, 30014, 39650, 21467, 33280, 36955, 13264, 10130, 12834, 8082, 406, 24796, 27513, 2079, 37734, 2, 1, 1, 1, 1, 1, 1, 1, 1, 1, 1, 1, 1]\n",
      "\n",
      "\n",
      "[9194, 12421, 1818, 15472, 40167, 4493, 13126, 42074, 13264, 12421, 20589, 13126, 14912, 21467, 43223, 31508, 25168, 21698, 27513, 43017, 14054, 4435, 18038, 13126, 21467, 7258, 27513, 4367, 37734, 5, 3, 13264, 37586, 40848, 25168, 34399, 42273, 13126, 19682, 4910, 9240, 27513, 14754, 21449, 13222, 37734, 1, 1, 1, 1, 1, 1, 1, 1, 1, 1, 1, 1, 1, 1]\n",
      "46\n",
      "[9194, 12421, 1818, 15472, 40167, 4493, 13126, 42074, 13264, 12421, 20589, 13126, 14912, 21467, 43223, 31508, 25168, 21698, 27513, 43017, 14054, 4435, 18038, 13126, 21467, 7258, 27513, 4367, 37586, 40848, 25168, 34399, 42273, 13126, 19682, 4910, 9240, 27513, 14754, 21449, 13222, 37734, 2, 1, 1, 1, 1, 1, 1, 1, 1]\n"
     ]
    }
   ],
   "source": [
    "#test\n",
    "print(train_pseudo_simple_sents_tmp[0])\n",
    "print(train_pseudo_simple_sent_lens_tmp[0])\n",
    "print(train_pseudo_labels_tmp[0])\n",
    "print('\\n')\n",
    "print(train_simple_sents_supervised[0])\n",
    "print(train_simple_sent_lens_supervised[0])\n",
    "print(train_labels_supervised[0])"
   ]
  },
  {
   "cell_type": "code",
   "execution_count": null,
   "metadata": {
    "collapsed": true
   },
   "outputs": [],
   "source": []
  }
 ],
 "metadata": {
  "anaconda-cloud": {},
  "kernelspec": {
   "display_name": "Python [conda root]",
   "language": "python",
   "name": "conda-root-py"
  },
  "language_info": {
   "codemirror_mode": {
    "name": "ipython",
    "version": 3
   },
   "file_extension": ".py",
   "mimetype": "text/x-python",
   "name": "python",
   "nbconvert_exporter": "python",
   "pygments_lexer": "ipython3",
   "version": "3.5.4"
  }
 },
 "nbformat": 4,
 "nbformat_minor": 1
}
