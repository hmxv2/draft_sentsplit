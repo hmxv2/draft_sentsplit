{
 "cells": [
  {
   "cell_type": "code",
   "execution_count": 1,
   "metadata": {
    "collapsed": false
   },
   "outputs": [],
   "source": [
    "import time\n",
    "import pickle\n",
    "import random\n",
    "import numpy as np\n",
    "\n",
    "from Vocab import Vocab\n",
    "\n",
    "embedding_file_path = '/data1/hmx/project/pre_trained_token_embedding/glove.6B.300d.txt'\n",
    "vocab_file_path = 'vocab.pk'\n",
    "\n",
    "with open(vocab_file_path, 'rb') as f:\n",
    "    vocab = pickle.load(f)\n",
    "    \n",
    "vocab_size = len(vocab.word2token)\n",
    "embedding_dim = 300"
   ]
  },
  {
   "cell_type": "code",
   "execution_count": 2,
   "metadata": {
    "collapsed": false
   },
   "outputs": [
    {
     "name": "stdout",
     "output_type": "stream",
     "text": [
      "1/44380\n",
      "4439/44380\n",
      "8877/44380\n",
      "13315/44380\n",
      "17753/44380\n",
      "22191/44380\n",
      "22191/44380\n",
      "26629/44380\n",
      "31067/44380\n",
      "35505/44380\n",
      "35505/44380\n",
      "39943/44380\n"
     ]
    }
   ],
   "source": [
    "all_embedding = np.zeros((vocab_size, embedding_dim))\n",
    "vocab_words={word for word in vocab.word2token}\n",
    "exist_embedding={}\n",
    "\n",
    "f=open(embedding_file_path, 'r')\n",
    "for line in f:\n",
    "    line = line.strip().split()\n",
    "    word = line[0]\n",
    "    embedding = [float(line[idx]) for idx in range(1,1+embedding_dim)]\n",
    "    embedding = np.array(embedding)\n",
    "    embedding = np.expand_dims(embedding, axis=0)\n",
    "    if word in vocab.word2token:\n",
    "        exist_embedding[word]=embedding\n",
    "    \n",
    "    if len(exist_embedding)%int(vocab_size/10)==1:\n",
    "        print('%s/%s'%(len(exist_embedding), vocab_size))"
   ]
  },
  {
   "cell_type": "code",
   "execution_count": 3,
   "metadata": {
    "collapsed": false
   },
   "outputs": [
    {
     "name": "stdout",
     "output_type": "stream",
     "text": [
      "103 44277 44380\n"
     ]
    }
   ],
   "source": [
    "not_exist_embedding={}\n",
    "for word in vocab_words:\n",
    "    if word not in exist_embedding:\n",
    "        not_exist_embedding[word]=None\n",
    "        \n",
    "print(len(not_exist_embedding), len(exist_embedding), vocab_size)"
   ]
  },
  {
   "cell_type": "code",
   "execution_count": 4,
   "metadata": {
    "collapsed": false
   },
   "outputs": [
    {
     "name": "stdout",
     "output_type": "stream",
     "text": [
      "103 44277 44380\n"
     ]
    }
   ],
   "source": [
    "exist_embedding_items = list(exist_embedding.items())\n",
    "rand_vec_num = 100\n",
    "for word in not_exist_embedding:\n",
    "    s=0\n",
    "    for _ in range(rand_vec_num):\n",
    "        _, embedding = random.choice(exist_embedding_items)\n",
    "        s+=embedding\n",
    "    s=s/rand_vec_num\n",
    "    not_exist_embedding[word]=s\n",
    "print(len(not_exist_embedding), len(exist_embedding), vocab_size)"
   ]
  },
  {
   "cell_type": "code",
   "execution_count": 5,
   "metadata": {
    "collapsed": false
   },
   "outputs": [],
   "source": [
    "for token in range(vocab_size):\n",
    "    word = vocab.token2word[token]\n",
    "    if word in exist_embedding:\n",
    "        embedding = exist_embedding[word]\n",
    "    else:\n",
    "        embedding = not_exist_embedding[word]\n",
    "    all_embedding[token] = embedding"
   ]
  },
  {
   "cell_type": "code",
   "execution_count": 6,
   "metadata": {
    "collapsed": false
   },
   "outputs": [],
   "source": [
    "with open('pre_trained_token_embedding_300d.pk', 'wb') as f:\n",
    "    pickle.dump(all_embedding, f)"
   ]
  },
  {
   "cell_type": "code",
   "execution_count": null,
   "metadata": {
    "collapsed": true
   },
   "outputs": [],
   "source": []
  }
 ],
 "metadata": {
  "anaconda-cloud": {},
  "kernelspec": {
   "display_name": "Python [conda root]",
   "language": "python",
   "name": "conda-root-py"
  },
  "language_info": {
   "codemirror_mode": {
    "name": "ipython",
    "version": 3
   },
   "file_extension": ".py",
   "mimetype": "text/x-python",
   "name": "python",
   "nbconvert_exporter": "python",
   "pygments_lexer": "ipython3",
   "version": "3.5.4"
  }
 },
 "nbformat": 4,
 "nbformat_minor": 1
}
