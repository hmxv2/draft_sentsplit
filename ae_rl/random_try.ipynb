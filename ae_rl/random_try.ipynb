{
 "cells": [
  {
   "cell_type": "code",
   "execution_count": 1,
   "metadata": {
    "collapsed": false
   },
   "outputs": [
    {
     "name": "stdout",
     "output_type": "stream",
     "text": [
      "import over\n"
     ]
    }
   ],
   "source": [
    "import json\n",
    "import pickle\n",
    "import random\n",
    "\n",
    "import torch\n",
    "from torch import nn, optim\n",
    "from torch import autograd\n",
    "from torch.autograd import Variable\n",
    "import torch.nn.functional as F\n",
    "import numpy as np\n",
    "import torch.nn.utils.rnn as rnn_utils\n",
    "\n",
    "import nltk\n",
    "from nltk.translate.bleu_score import SmoothingFunction\n",
    "from nltk.translate.bleu_score import sentence_bleu\n",
    "import time\n",
    "\n",
    "from Vocab import Vocab\n",
    "\n",
    "import torch\n",
    "torch.cuda.set_device(0)\n",
    "\n",
    "print('import over')"
   ]
  },
  {
   "cell_type": "code",
   "execution_count": 45,
   "metadata": {
    "collapsed": false
   },
   "outputs": [
    {
     "name": "stdout",
     "output_type": "stream",
     "text": [
      "[5.602796437537268e-09, 8.726390933459443e-05, 0.0034593773364647584, 0.002302494254638862]\n",
      "0.00012340980408667956\n",
      "0.03406775047661826\n",
      "0.04772695827953738\n",
      "0.06418537663419444\n",
      "0.0005377174819278786\n",
      "0.0023010355994352106\n",
      "0.011402567865604762\n",
      "0.06418537663419444\n",
      "0.02230257790228158\n",
      "0.0019972724364364187\n",
      "0.02310911005945933\n",
      "0.01831563888873418\n"
     ]
    }
   ],
   "source": [
    "def batch_tokens_bleu(references, candidates, smooth_epsilon=0.001):\n",
    "    ##    para: references and candidates are list[list] type\n",
    "    ##    return: list of BLEU for every sample\n",
    "    ##    \n",
    "    bleu_scores=[]\n",
    "    for ref, candidate in zip(references, candidates):\n",
    "        candidate_len = len(candidate)\n",
    "        if candidate_len==0:\n",
    "            bleu_scores.append(0)\n",
    "        elif candidate_len==1:\n",
    "            bleu_scores.append(sentence_bleu([ref], candidate, weights=[1]))\n",
    "        elif candidate_len==2:\n",
    "            bleu_scores.append(sentence_bleu([ref], candidate, weights=[0.5,0.5]))\n",
    "        elif candidate_len==3:\n",
    "            bleu_scores.append(sentence_bleu([ref], candidate, weights=[0.3333,0.3333,0.3333]))\n",
    "        else:\n",
    "            bleu_scores.append(sentence_bleu([ref], candidate, smoothing_function = SmoothingFunction(epsilon=smooth_epsilon).method1))\n",
    "    return bleu_scores\n",
    "\n",
    "\n",
    "a=[[1,2,3,4,5,6,7,8,9,10,11,12,13,14,15,16,17,18,19,20],[1,2,3,4,5,6,7,8,9,10,11,12,13,14,15,16,17,18,19,20],[1,2,3,4,5,6,7,8,9,10,11,12,13,14,15,16,17,18,19,20], [1,2,3,4,5,6,7,8,9,10,11,12,13,14,15,16,17,18,19,20]]\n",
    "b=[[1], [1,'a'], [1,2,3], [1,2,3,'a']]\n",
    "print(batch_tokens_bleu(a, b))\n",
    "print(sentence_bleu([a[0]], [1,2], weights=[0.5,0.5]))#, smoothing_function = SmoothingFunction(epsilon=0.001).method1))\n",
    "print(sentence_bleu([a[0]], [1,2,'a','b','c','d','e'], weights=[0.5,0.5]))#, smoothing_function = SmoothingFunction(epsilon=0.001).method1))\n",
    "print(sentence_bleu([a[0]], [1,2,3,'a','b','c','d'], weights=[1/3,1/3,1/3]))#, smoothing_function = SmoothingFunction(epsilon=0.001).method1))\n",
    "print(sentence_bleu([a[0]], [1,2,3,4,'a','b','c'], weights=[0.25, 0.25, 0.25, 0.25]))#, smoothing_function = SmoothingFunction(epsilon=0.001).method1))\n",
    "\n",
    "print(sentence_bleu([a[0]], [1,'a','b','c','d','e','f'], smoothing_function = SmoothingFunction(epsilon=0.001).method1))\n",
    "print(sentence_bleu([a[0]], [1,2,'a','b','c','d','e'], smoothing_function = SmoothingFunction(epsilon=0.001).method1))\n",
    "print(sentence_bleu([a[0]], [1,2,3,'a','b','c','d'],  smoothing_function = SmoothingFunction(epsilon=0.001).method1))\n",
    "print(sentence_bleu([a[0]], [1,2,3,4,'a','b','c'], weights=[0.25, 0.25, 0.25, 0.25], smoothing_function = SmoothingFunction(epsilon=0.001).method1))\n",
    "\n",
    "print(sentence_bleu([a[0]], [1,'a','b','c','d','e','f'], weights=[1]))#, smoothing_function = SmoothingFunction(epsilon=0.001).method1))\n",
    "print(sentence_bleu([a[0]], [1,2,'a'], weights=[0.5,0.5]))#, smoothing_function = SmoothingFunction(epsilon=0.001).method1))\n",
    "print(sentence_bleu([a[0]], [1,2,3,'a','b'], weights=[1/3,1/3,1/3]))#, smoothing_function = SmoothingFunction(epsilon=0.001).method1))\n",
    "print(sentence_bleu([a[0]], [1,2,3,4], weights=[0.25, 0.25, 0.25, 0.25]))#, smoothing_function = SmoothingFunction(epsilon=0.001).method1))\n"
   ]
  },
  {
   "cell_type": "code",
   "execution_count": 9,
   "metadata": {
    "collapsed": false
   },
   "outputs": [
    {
     "name": "stdout",
     "output_type": "stream",
     "text": [
      "\n",
      " 0.3481  0.2966\n",
      " 0.1024  0.0319\n",
      "[torch.FloatTensor of size 2x2]\n",
      "\n",
      "\n",
      " 0.3481  0.2966\n",
      " 0.1024  0.0319\n",
      " 0.3481  0.2966\n",
      " 0.1024  0.0319\n",
      " 0.3481  0.2966\n",
      " 0.1024  0.0319\n",
      "[torch.FloatTensor of size 6x2]\n",
      "\n"
     ]
    }
   ],
   "source": [
    "def _inflate(tensor, times, dim):\n",
    "    \"\"\"\n",
    "    Examples::\n",
    "        >> a = torch.LongTensor([[1, 2], [3, 4]])\n",
    "        >> a\n",
    "        1   2\n",
    "        3   4\n",
    "        [torch.LongTensor of size 2x2]\n",
    "        >> b = ._inflate(a, 2, dim=1)\n",
    "        >> b\n",
    "        1   2   1   2\n",
    "        3   4   3   4\n",
    "        [torch.LongTensor of size 2x4]\n",
    "    \"\"\"\n",
    "    repeat_dims = [1] * tensor.dim()\n",
    "    repeat_dims[dim] = times\n",
    "    return tensor.repeat(*repeat_dims)\n",
    "\n",
    "a=torch.rand(2,2)\n",
    "print(a)\n",
    "b=_inflate(a, times=3,dim=0)\n",
    "print(b)"
   ]
  },
  {
   "cell_type": "code",
   "execution_count": 7,
   "metadata": {
    "collapsed": false
   },
   "outputs": [
    {
     "name": "stdout",
     "output_type": "stream",
     "text": [
      "[\n",
      "(0 ,.,.) = \n",
      "  0.5779\n",
      "  0.7873\n",
      "  0.1317\n",
      "\n",
      "(1 ,.,.) = \n",
      "  0.4067\n",
      "  0.1400\n",
      "  0.0116\n",
      "\n",
      "(2 ,.,.) = \n",
      "  0.7928\n",
      "  0.0855\n",
      "  0.4257\n",
      "\n",
      "(3 ,.,.) = \n",
      "  0.9640\n",
      "  0.4155\n",
      "  0.8866\n",
      "[torch.FloatTensor of size 4x3x1]\n",
      ", \n",
      "(0 ,.,.) = \n",
      "  0.6335\n",
      "  0.8259\n",
      "  0.8924\n",
      "\n",
      "(1 ,.,.) = \n",
      "  0.2542\n",
      "  0.3721\n",
      "  0.2569\n",
      "\n",
      "(2 ,.,.) = \n",
      "  0.7518\n",
      "  0.3747\n",
      "  0.2418\n",
      "\n",
      "(3 ,.,.) = \n",
      "  0.8554\n",
      "  0.0451\n",
      "  0.8294\n",
      "[torch.FloatTensor of size 4x3x1]\n",
      "]\n",
      "\n",
      " 0.5779  0.6335\n",
      " 0.7873  0.8259\n",
      " 0.1317  0.8924\n",
      " 0.4067  0.2542\n",
      " 0.1400  0.3721\n",
      " 0.0116  0.2569\n",
      " 0.7928  0.7518\n",
      " 0.0855  0.3747\n",
      " 0.4257  0.2418\n",
      " 0.9640  0.8554\n",
      " 0.4155  0.0451\n",
      " 0.8866  0.8294\n",
      "[torch.FloatTensor of size 12x2]\n",
      "\n",
      "\n",
      "(0 ,.,.) = \n",
      "  0.5779  0.6335\n",
      "  0.7873  0.8259\n",
      "  0.1317  0.8924\n",
      "\n",
      "(1 ,.,.) = \n",
      "  0.4067  0.2542\n",
      "  0.1400  0.3721\n",
      "  0.0116  0.2569\n",
      "\n",
      "(2 ,.,.) = \n",
      "  0.7928  0.7518\n",
      "  0.0855  0.3747\n",
      "  0.4257  0.2418\n",
      "\n",
      "(3 ,.,.) = \n",
      "  0.9640  0.8554\n",
      "  0.4155  0.0451\n",
      "  0.8866  0.8294\n",
      "[torch.FloatTensor of size 4x3x2]\n",
      "\n"
     ]
    }
   ],
   "source": [
    "a=[torch.rand(4,3,1) for _ in range(2)]\n",
    "print(a)\n",
    "a=torch.cat(a, dim=2)\n",
    "b=a.view(4*3, -1)\n",
    "print(b)\n",
    "c=b.view(4,3,-1)\n",
    "print(c)"
   ]
  }
 ],
 "metadata": {
  "anaconda-cloud": {},
  "kernelspec": {
   "display_name": "Python [default]",
   "language": "python",
   "name": "python3"
  },
  "language_info": {
   "codemirror_mode": {
    "name": "ipython",
    "version": 3
   },
   "file_extension": ".py",
   "mimetype": "text/x-python",
   "name": "python",
   "nbconvert_exporter": "python",
   "pygments_lexer": "ipython3",
   "version": "3.5.4"
  }
 },
 "nbformat": 4,
 "nbformat_minor": 1
}
