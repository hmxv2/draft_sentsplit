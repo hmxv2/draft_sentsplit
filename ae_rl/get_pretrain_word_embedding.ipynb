{
 "cells": [
  {
   "cell_type": "code",
   "execution_count": 1,
   "metadata": {
    "collapsed": false
   },
   "outputs": [],
   "source": [
    "import json\n",
    "import pickle\n",
    "import numpy as np\n",
    "import time\n",
    "import random\n",
    "\n",
    "from Vocab import Vocab        "
   ]
  },
  {
   "cell_type": "code",
   "execution_count": 2,
   "metadata": {
    "collapsed": false
   },
   "outputs": [],
   "source": [
    "with open('vocab.pk', 'rb') as f:\n",
    "    vocab = pickle.load(f)"
   ]
  },
  {
   "cell_type": "code",
   "execution_count": 3,
   "metadata": {
    "collapsed": false,
    "scrolled": true
   },
   "outputs": [
    {
     "name": "stdout",
     "output_type": "stream",
     "text": [
      "1\n",
      "10001\n",
      "20001\n",
      "30001\n",
      "40001\n",
      "50001\n",
      "60001\n",
      "70001\n",
      "80001\n"
     ]
    }
   ],
   "source": [
    "f = open('../pre_train_wordembedding/sgns.merge.word', 'r')\n",
    "\n",
    "word2vec={}\n",
    "success_cnt=0\n",
    "\n",
    "for idx, line in enumerate(f):\n",
    "    line = line.split(' ')\n",
    "    if line[0] in vocab.word2token:\n",
    "        vec = line[1:-1]\n",
    "        #print(vec)\n",
    "        vec  = [float(x) for x in vec]\n",
    "        word2vec[line[0]] = np.array((vec))\n",
    "        success_cnt+=1\n",
    "        \n",
    "        if success_cnt%10000==1:\n",
    "            print(success_cnt)"
   ]
  },
  {
   "cell_type": "code",
   "execution_count": 4,
   "metadata": {
    "collapsed": false
   },
   "outputs": [
    {
     "name": "stdout",
     "output_type": "stream",
     "text": [
      "86586 98638\n"
     ]
    }
   ],
   "source": [
    "print(len(word2vec), len(vocab.word2token))"
   ]
  },
  {
   "cell_type": "code",
   "execution_count": 5,
   "metadata": {
    "collapsed": true
   },
   "outputs": [],
   "source": [
    "no_pre_trained=[]\n",
    "for x in vocab.word2token:\n",
    "    if x not in word2vec:\n",
    "        no_pre_trained.append(x)"
   ]
  },
  {
   "cell_type": "code",
   "execution_count": 6,
   "metadata": {
    "collapsed": false
   },
   "outputs": [
    {
     "name": "stdout",
     "output_type": "stream",
     "text": [
      "['最牛', '纽卡', '水喝', '为保', '除本', '毒葛', '印着', '过性', '拿件', 'rudd']\n"
     ]
    }
   ],
   "source": [
    "idx = random.randint(0,len(no_pre_trained))\n",
    "print(no_pre_trained[idx:idx+10])"
   ]
  },
  {
   "cell_type": "code",
   "execution_count": 7,
   "metadata": {
    "collapsed": false,
    "scrolled": true
   },
   "outputs": [],
   "source": [
    "#create randomly\n",
    "word2vec_ = word2vec.copy()\n",
    "list_of_word2vec_item = list(word2vec.items())\n",
    "\n",
    "for x in vocab.word2token:\n",
    "    if x not in word2vec_:\n",
    "        value = 0\n",
    "        for ii in range(100):\n",
    "            key, v = random.choice(list_of_word2vec_item)\n",
    "            value+=v\n",
    "        value/=100\n",
    "        word2vec_[x]=value"
   ]
  },
  {
   "cell_type": "code",
   "execution_count": 8,
   "metadata": {
    "collapsed": false,
    "scrolled": true
   },
   "outputs": [],
   "source": [
    "pre_train_word_embedding = np.zeros((len(word2vec_), 300))\n",
    "for ii in range(len(word2vec_)):\n",
    "    word = vocab.token2word[ii]\n",
    "    pre_train_word_embedding[ii]=word2vec_[word]"
   ]
  },
  {
   "cell_type": "code",
   "execution_count": 9,
   "metadata": {
    "collapsed": false
   },
   "outputs": [],
   "source": [
    "with open('./pre_train_word_embedding.pk', 'wb') as f:\n",
    "    pickle.dump(pre_train_word_embedding, f)"
   ]
  },
  {
   "cell_type": "code",
   "execution_count": 10,
   "metadata": {
    "collapsed": false
   },
   "outputs": [
    {
     "name": "stdout",
     "output_type": "stream",
     "text": [
      "(98638, 300)\n"
     ]
    }
   ],
   "source": [
    "print(pre_train_word_embedding.shape)"
   ]
  },
  {
   "cell_type": "code",
   "execution_count": 11,
   "metadata": {
    "collapsed": false
   },
   "outputs": [
    {
     "name": "stdout",
     "output_type": "stream",
     "text": [
      "0.3.1.post2\n"
     ]
    }
   ],
   "source": [
    "import torch\n",
    "print(torch.__version__)"
   ]
  }
 ],
 "metadata": {
  "anaconda-cloud": {},
  "kernelspec": {
   "display_name": "Python [conda root]",
   "language": "python",
   "name": "conda-root-py"
  },
  "language_info": {
   "codemirror_mode": {
    "name": "ipython",
    "version": 3
   },
   "file_extension": ".py",
   "mimetype": "text/x-python",
   "name": "python",
   "nbconvert_exporter": "python",
   "pygments_lexer": "ipython3",
   "version": "3.5.4"
  }
 },
 "nbformat": 4,
 "nbformat_minor": 1
}
